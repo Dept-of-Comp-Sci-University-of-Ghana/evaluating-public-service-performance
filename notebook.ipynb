{
 "cells": [
  {
   "cell_type": "code",
   "execution_count": null,
   "metadata": {},
   "outputs": [],
   "source": [
    "import requests\n",
    "import pandas as pd\n",
    "\n",
    "# Credentials\n",
    "consumer_key = \"aBqUYvVqFhPhst8FXy4ZHa9GU\"\n",
    "consumer_secret = \"TM9wwYNKca1j85wBh21m03ZyEKVv4aNHHv3pULnPsYXXWp4cRk\"\n",
    "access_token = \"782220683564748800-B5pGV21xe5mfdAjeaR9eSUTF5dWDNz8\"\n",
    "access_token_secret = \"kr2E9bCOHwfjElkGHB1UdAHqtOkIUaUWfC1GQhwZ2N5cR\"\n",
    "bearer_token = \"AAAAAAAAAAAAAAAAAAAAAJjYewEAAAAAm6PKdlVVO6XY%2FchLn%2BIdpQ0YCig%3DjwF0CFBFwNkqbmIa4bbrcMhZhlAO1bcLRDFBIW4yYDv4ycvZj8\"\n",
    "headers = {\"Authorization\": \"Bearer {}\".format(bearer_token)}"
   ]
  },
  {
   "cell_type": "markdown",
   "metadata": {},
   "source": [
    "## Fetch tweets related to the various sectors: health, transportation, education, and food"
   ]
  },
  {
   "cell_type": "code",
   "execution_count": 115,
   "metadata": {},
   "outputs": [],
   "source": [
    "sector_queries = {\n",
    "    \"health\": [\n",
    "        \"healthcare ghana\", \"medical care ghana\", \"health care ghana\",\n",
    "        \"quality health ghana\", \"poor health ghana\"\n",
    "    ],\n",
    "    \"transportation\": [\n",
    "        \"road network ghana\",\n",
    "        \"transportation ghana\",\n",
    "        \"fuel price ghana\",\n",
    "    ],\n",
    "    \"education\": [\n",
    "        \"education in ghana\",\n",
    "        \"teaching learning in ghana\",\n",
    "        \"ghana education system\",\n",
    "    ],\n",
    "    \"food\": [\n",
    "        \"food price ghana\", \"food cost ghana\", \"meals per day system\",\n",
    "        \"meal a day system\", \"diet pattern\", \"diet change\"\n",
    "    ],\n",
    "}"
   ]
  },
  {
   "cell_type": "code",
   "execution_count": 116,
   "metadata": {},
   "outputs": [
    {
     "name": "stdout",
     "output_type": "stream",
     "text": [
      "Getting tweets for 'healthcare ghana'\n",
      "Getting tweets for 'medical care ghana'\n",
      "Getting tweets for 'health care ghana'\n",
      "Getting tweets for 'quality health ghana'\n",
      "Getting tweets for 'poor health ghana'\n",
      "Getting tweets for 'road network ghana'\n",
      "Getting tweets for 'transportation ghana'\n",
      "Getting tweets for 'fuel price ghana'\n",
      "Getting tweets for 'education in ghana'\n",
      "Fetching next page for phrase 'education in ghana'\n",
      "Fetching next page for phrase 'education in ghana'\n",
      "No more tweets for 'education in ghana'\n",
      "Getting tweets for 'teaching learning in ghana'\n",
      "Getting tweets for 'ghana education system'\n",
      "Getting tweets for 'food price ghana'\n",
      "Getting tweets for 'food cost ghana'\n",
      "Getting tweets for 'meals per day system'\n",
      "Getting tweets for 'meal a day system'\n",
      "Getting tweets for 'diet pattern'\n",
      "Getting tweets for 'diet change'\n",
      "Fetching next page for phrase 'diet change'\n",
      "Fetching next page for phrase 'diet change'\n",
      "No more tweets for 'diet change'\n"
     ]
    }
   ],
   "source": [
    "# Get tweets\n",
    "for sector, sector_phrases in sector_queries.items():\n",
    "    # Pandas dataframe to store the data\n",
    "    tweet_data_frame = pd.DataFrame(columns=[\n",
    "        'tweet_id', 'tweet_text', 'sector', 'sentiment_score', 'neg_pos'\n",
    "    ])\n",
    "    records = []\n",
    "    for phrase in sector_phrases:\n",
    "        print(f\"Getting tweets for '{phrase}'\")\n",
    "\n",
    "        query = \"+\".join(phrase.split())\n",
    "        url = f\"https://api.twitter.com/2/tweets/search/recent?max_results=100&expansions=geo.place_id&query={query} -is:retweet\"\n",
    "        res = requests.get(url, headers=headers)\n",
    "\n",
    "        # Check if the response is valid\n",
    "        if res.status_code != 200 or res.json().get(\"data\") is None:\n",
    "            print(\"Could not get tweets for phrase: {}\".format(phrase))\n",
    "            continue\n",
    "\n",
    "        for tweet in res.json().get(\"data\"):\n",
    "            tweet_object = {\n",
    "                \"tweet_id\": tweet.get(\"id\"),\n",
    "                \"tweet_text\": tweet.get(\"text\"),\n",
    "                \"sector\": sector\n",
    "            }\n",
    "            records.append(tweet_object)\n",
    "\n",
    "        # Fetch next the pages of this query\n",
    "        while res and res.json().get(\"meta\") and res.json().get(\"meta\").get(\n",
    "                \"next_token\"):\n",
    "            print(\"Fetching next page for phrase '{}'\".format(phrase))\n",
    "\n",
    "            next_token = res.json().get(\"meta\").get(\"next_token\")\n",
    "            url += \"&next_token={}\".format(next_token)\n",
    "            res = requests.get(url, headers=headers)\n",
    "\n",
    "            # Check if the response is valid\n",
    "            if res.status_code != 200 or res.json().get(\"data\") is None:\n",
    "                print(\"No more tweets for '{}'\".format(phrase))\n",
    "                continue\n",
    "\n",
    "            for tweet in res.json()[\"data\"]:\n",
    "                tweet_object = {\n",
    "                    \"tweet_id\": tweet.get(\"id\"),\n",
    "                    \"tweet_text\": tweet.get(\"text\"),\n",
    "                    \"sector\": sector\n",
    "                }\n",
    "                records.append(tweet_object)\n",
    "\n",
    "    tweet_data_frame = pd.concat(\n",
    "        [tweet_data_frame,\n",
    "         pd.DataFrame.from_records(records)])\n",
    "\n",
    "    # Save the sector data to a csv file\n",
    "    tweet_data_frame.to_csv(sector + '.csv', index=False)"
   ]
  },
  {
   "cell_type": "markdown",
   "metadata": {},
   "source": [
    "## Merge all the sectors"
   ]
  },
  {
   "cell_type": "code",
   "execution_count": 120,
   "metadata": {},
   "outputs": [],
   "source": [
    "df_exists = False\n",
    "dfs = []\n",
    "for file_name in sector_queries.keys():\n",
    "    try:\n",
    "        dfs += [pd.read_csv(file_name + \".csv\")] \n",
    "        df_exists = True\n",
    "    except FileNotFoundError:\n",
    "        pass\n",
    "        print(file_name + \".csv\" + \" not found.\")\n",
    "if df_exists:\n",
    "    df = pd.concat(dfs)\n",
    "    df.to_csv(\"all_sectors.csv\",index=False)\n",
    "else:\n",
    "    print(\"No data to save.\")"
   ]
  },
  {
   "cell_type": "code",
   "execution_count": 118,
   "metadata": {},
   "outputs": [
    {
     "data": {
      "text/html": [
       "<div>\n",
       "<style scoped>\n",
       "    .dataframe tbody tr th:only-of-type {\n",
       "        vertical-align: middle;\n",
       "    }\n",
       "\n",
       "    .dataframe tbody tr th {\n",
       "        vertical-align: top;\n",
       "    }\n",
       "\n",
       "    .dataframe thead th {\n",
       "        text-align: right;\n",
       "    }\n",
       "</style>\n",
       "<table border=\"1\" class=\"dataframe\">\n",
       "  <thead>\n",
       "    <tr style=\"text-align: right;\">\n",
       "      <th></th>\n",
       "      <th>tweet_id</th>\n",
       "      <th>sentiment_score</th>\n",
       "      <th>neg_pos</th>\n",
       "      <th>Unnamed: 0</th>\n",
       "    </tr>\n",
       "  </thead>\n",
       "  <tbody>\n",
       "    <tr>\n",
       "      <th>count</th>\n",
       "      <td>5.169000e+03</td>\n",
       "      <td>0.0</td>\n",
       "      <td>0.0</td>\n",
       "      <td>1845.000000</td>\n",
       "    </tr>\n",
       "    <tr>\n",
       "      <th>mean</th>\n",
       "      <td>1.573094e+18</td>\n",
       "      <td>NaN</td>\n",
       "      <td>NaN</td>\n",
       "      <td>112.027100</td>\n",
       "    </tr>\n",
       "    <tr>\n",
       "      <th>std</th>\n",
       "      <td>6.537733e+14</td>\n",
       "      <td>NaN</td>\n",
       "      <td>NaN</td>\n",
       "      <td>78.548791</td>\n",
       "    </tr>\n",
       "    <tr>\n",
       "      <th>min</th>\n",
       "      <td>1.571454e+18</td>\n",
       "      <td>NaN</td>\n",
       "      <td>NaN</td>\n",
       "      <td>0.000000</td>\n",
       "    </tr>\n",
       "    <tr>\n",
       "      <th>25%</th>\n",
       "      <td>1.572563e+18</td>\n",
       "      <td>NaN</td>\n",
       "      <td>NaN</td>\n",
       "      <td>46.000000</td>\n",
       "    </tr>\n",
       "    <tr>\n",
       "      <th>50%</th>\n",
       "      <td>1.573208e+18</td>\n",
       "      <td>NaN</td>\n",
       "      <td>NaN</td>\n",
       "      <td>92.000000</td>\n",
       "    </tr>\n",
       "    <tr>\n",
       "      <th>75%</th>\n",
       "      <td>1.573719e+18</td>\n",
       "      <td>NaN</td>\n",
       "      <td>NaN</td>\n",
       "      <td>178.000000</td>\n",
       "    </tr>\n",
       "    <tr>\n",
       "      <th>max</th>\n",
       "      <td>1.574010e+18</td>\n",
       "      <td>NaN</td>\n",
       "      <td>NaN</td>\n",
       "      <td>270.000000</td>\n",
       "    </tr>\n",
       "  </tbody>\n",
       "</table>\n",
       "</div>"
      ],
      "text/plain": [
       "           tweet_id  sentiment_score  neg_pos   Unnamed: 0\n",
       "count  5.169000e+03              0.0      0.0  1845.000000\n",
       "mean   1.573094e+18              NaN      NaN   112.027100\n",
       "std    6.537733e+14              NaN      NaN    78.548791\n",
       "min    1.571454e+18              NaN      NaN     0.000000\n",
       "25%    1.572563e+18              NaN      NaN    46.000000\n",
       "50%    1.573208e+18              NaN      NaN    92.000000\n",
       "75%    1.573719e+18              NaN      NaN   178.000000\n",
       "max    1.574010e+18              NaN      NaN   270.000000"
      ]
     },
     "execution_count": 118,
     "metadata": {},
     "output_type": "execute_result"
    }
   ],
   "source": [
    "df.describe()"
   ]
  },
  {
   "cell_type": "markdown",
   "metadata": {},
   "source": [
    "## Sentiment analysis"
   ]
  },
  {
   "cell_type": "markdown",
   "metadata": {},
   "source": []
  }
 ],
 "metadata": {
  "kernelspec": {
   "display_name": "Python 3.9.13 64-bit",
   "language": "python",
   "name": "python3"
  },
  "language_info": {
   "codemirror_mode": {
    "name": "ipython",
    "version": 3
   },
   "file_extension": ".py",
   "mimetype": "text/x-python",
   "name": "python",
   "nbconvert_exporter": "python",
   "pygments_lexer": "ipython3",
   "version": "3.9.13"
  },
  "orig_nbformat": 4,
  "vscode": {
   "interpreter": {
    "hash": "949777d72b0d2535278d3dc13498b2535136f6dfe0678499012e853ee9abcab1"
   }
  }
 },
 "nbformat": 4,
 "nbformat_minor": 2
}
