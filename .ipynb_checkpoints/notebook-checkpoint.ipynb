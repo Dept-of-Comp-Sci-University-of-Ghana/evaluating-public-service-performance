{
 "cells": [
  {
   "cell_type": "code",
   "execution_count": null,
   "metadata": {},
   "outputs": [],
   "source": [
    "consumer_key = \"aBqUYvVqFhPhst8FXy4ZHa9GU\"\n",
    "consumer_secret = \"TM9wwYNKca1j85wBh21m03ZyEKVv4aNHHv3pULnPsYXXWp4cRk\"\n",
    "access_token = \"782220683564748800-B5pGV21xe5mfdAjeaR9eSUTF5dWDNz8\"\n",
    "access_token_secret = \"kr2E9bCOHwfjElkGHB1UdAHqtOkIUaUWfC1GQhwZ2N5cR\"\n",
    "bearer_token = \"AAAAAAAAAAAAAAAAAAAAAJjYewEAAAAAm6PKdlVVO6XY%2FchLn%2BIdpQ0YCig%3DjwF0CFBFwNkqbmIa4bbrcMhZhlAO1bcLRDFBIW4yYDv4ycvZj8\""
   ]
  }
 ],
 "metadata": {
  "language_info": {
   "name": "python"
  },
  "orig_nbformat": 4
 },
 "nbformat": 4,
 "nbformat_minor": 2
}
